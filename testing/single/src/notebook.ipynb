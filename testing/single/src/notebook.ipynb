{
 "cells": [
  {
   "cell_type": "code",
   "execution_count": null,
   "metadata": {},
   "outputs": [],
   "source": [
    "# select the same vscode's python environment as notebook kernel.\n",
    "\n",
    "# confirm import pytest succeeded and marked as accessed (from other cells)\n",
    "import pytest"
   ]
  },
  {
   "cell_type": "code",
   "execution_count": null,
   "metadata": {},
   "outputs": [],
   "source": [
    "# test basic hover in notebook context\n",
    "from hover import foo, MyNumber\n",
    "\n",
    "# hover on `foo`` and confirm signature and doc comment\n",
    "foo(10)\n",
    "\n",
    "# hover on `os` and confirm it shows tooltip for `os` module\n",
    "c = \"os\"\n",
    "\n",
    "# hover on `+` and confirm it shows tooltip for `__add__`\n",
    "e = MyNumber(0) + MyNumber(1)"
   ]
  },
  {
   "cell_type": "code",
   "execution_count": null,
   "metadata": {},
   "outputs": [],
   "source": [
    "# test basic completion in notebook context\n",
    "from completion import MyDict, MyType\n",
    "\n",
    "# bring up completion after `os` and confirm tooltip and `os` is added as `auto import` \n",
    "os\n",
    "\n",
    "d = { \"some key\": 1, \"another#2\": \"#2\" }\n",
    "d[\"#3 key\"] = 3\n",
    "\n",
    "# bring up regular dict completion inside of `[]` and confirm all keys are suggested\n",
    "d[]\n",
    "\n",
    "# bring up symbol completion after `My` and confirm tooltip and `MyDict` is suggested\n",
    "My\n",
    "\n",
    "# bring up symbol completion after `import` and confirm all top level modules are suggested\n",
    "import \n",
    "\n",
    "# bring up symbol completion after `import` and confirm all symbols under pandas \n",
    "# including sub modules are suggested\n",
    "from pandas import \n",
    "\n",
    "# bring up override completion after `me` and confirm `method` is suggested\n",
    "# commit the completion and confirm all necessary imports are inserted.\n",
    "class Derived(MyType):\n",
    "    def me"
   ]
  },
  {
   "cell_type": "code",
   "execution_count": null,
   "metadata": {},
   "outputs": [],
   "source": [
    "# test basic code action in notebook context\n",
    "\n",
    "# place cursor on `os` and confirm lightbulb shows up\n",
    "# and trigger quick fix and confirm `Add 'import os'` is listed\n",
    "os\n",
    "\n",
    "# place cursor on `Path` and confirm lightbulb shows up\n",
    "# and trigger quick fix and confirm `Add 'from pathlib import Path'` is listed\n",
    "Path\n",
    "\n",
    "# place cursor on `userModule` and confirm lightbulb shows up\n",
    "# and trigger quick fix and confirm `Add 'from lib import userModule'` is listed\n",
    "userModule\n",
    "\n",
    "# place cursor on `MyType` and confirm lightbulb not shows up\n",
    "# since it is imported from cell above\n",
    "MyType\n",
    "\n",
    "# place cursor on `sys` and confirm lightbulb shows up\n",
    "# and trigger quick fix and confirm `remove unused import` is listed\n",
    "# execute the code action and confirm it works as expected\n",
    "import sys\n",
    "\n",
    "# place cursor on `TypeToMove` and confirm lightbulb not shows up\n",
    "# since `move symbol` is not available in notebook\n",
    "class TypeToMove:\n",
    "    pass\n",
    "\n",
    "# place cursor on `outerModule` and confirm lightbulb shows up\n",
    "# and trigger quick fix and confirm `Add \"./outsideLib\" to extraPaths` is listed\n",
    "# execute the code action and confirm `extraPaths` is added to `settings.json`\n",
    "import outerModule\n",
    "\n",
    "# place cursor on `hello` and confirm lightbulb shows up\n",
    "# and trigger quick fix and confirm `type ignore` entry is listed\n",
    "# execute the code action and confirm it added #type: ignore\n",
    "a: int = \"hello\"\n",
    "\n",
    "# place cursor on `unknownModule` and confirm lightbulb shows up\n",
    "# and trigger quick fix and confirm `select a different kernel` and \n",
    "# `learn more about resolving import` entry is listed\n",
    "# execute the code action and confirm it works as expected\n",
    "import unknownModule\n",
    "\n",
    "# place curosr on `userModule` and confirm lightbulb not shows up\n",
    "# since `Convert to relative path` is not available in notebook\n",
    "from lib.userModule import MyType\n",
    "\n",
    "# place curosr on `mailbox` and confirm lightbulb shows up\n",
    "# and trigger quick fix and confirm `Rename \"...mailbox\" to \"...mailbox_x\"` entry is listed\n",
    "# execute the code action and confirm it works as expected\n",
    "import mailbox\n",
    "\n",
    "# place curosr on `None` and confirm lightbulb shows up\n",
    "# and trigger quick fix and confirm `Add \"Optional\" To type annotation` is listed\n",
    "# execute the code action and confirm it works as expected\n",
    "def foo(a: int = None) -> int:\n",
    "    return a\n",
    "\n",
    "# place curosr on `event` and confirm lightbulb shows up\n",
    "# and trigger quick fix and confirm `Create Type Stub` entry is listed\n",
    "# execute the code action and confirm it works as expected\n",
    "import zope.event"
   ]
  },
  {
   "cell_type": "code",
   "execution_count": null,
   "metadata": {},
   "outputs": [],
   "source": []
  },
  {
   "cell_type": "code",
   "execution_count": null,
   "metadata": {},
   "outputs": [],
   "source": [
    "# confirm pytest is accessible here\n",
    "pytest.Config(pytest.PytestPluginManager())"
   ]
  },
  {
   "cell_type": "code",
   "execution_count": null,
   "metadata": {},
   "outputs": [],
   "source": [
    "# change notebook kernel to different one and confirm notebook doesn't crash \n",
    "# and import pytest react accordingly."
   ]
  },
  {
   "cell_type": "code",
   "execution_count": null,
   "metadata": {},
   "outputs": [],
   "source": [
    "\n",
    "# confirm add import works\n",
    "os\n",
    "\n",
    "# "
   ]
  }
 ],
 "metadata": {
  "kernelspec": {
   "display_name": ".venv",
   "language": "python",
   "name": "python3"
  },
  "language_info": {
   "name": "python",
   "version": "3.11.3"
  }
 },
 "nbformat": 4,
 "nbformat_minor": 2
}
